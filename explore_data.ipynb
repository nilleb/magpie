{
 "metadata": {
  "language_info": {
   "codemirror_mode": {
    "name": "ipython",
    "version": 3
   },
   "file_extension": ".py",
   "mimetype": "text/x-python",
   "name": "python",
   "nbconvert_exporter": "python",
   "pygments_lexer": "ipython3",
   "version": "3.9.1-final"
  },
  "orig_nbformat": 2,
  "kernelspec": {
   "name": "python39164bitenvvenv8c94fbb8e0b34b9bbbe20bb17a248fea",
   "display_name": "Python 3.9.1 64-bit ('env': venv)",
   "language": "python"
  }
 },
 "nbformat": 4,
 "nbformat_minor": 2,
 "cells": [
  {
   "cell_type": "code",
   "execution_count": 1,
   "metadata": {},
   "outputs": [],
   "source": [
    "from magpie.plugins.dbadapter import DBProvider, ReferenceData\n",
    "from magpie.app import configuration\n",
    "provider = DBProvider(configuration())\n",
    "dbinfo = provider.database_info\n",
    "ReferenceData.bind(provider.database)\n",
    "provider.database.create_tables([ReferenceData])\n",
    "query = ReferenceData.select(ReferenceData.commit_id).order_by(-ReferenceData.collected_at)\n",
    "items = [item for item in query]\n"
   ]
  },
  {
   "cell_type": "code",
   "execution_count": null,
   "metadata": {},
   "outputs": [],
   "source": []
  }
 ]
}